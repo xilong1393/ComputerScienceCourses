{
 "cells": [
  {
   "cell_type": "code",
   "execution_count": 1,
   "metadata": {},
   "outputs": [],
   "source": [
    "from sklearn.linear_model import LinearRegression, Lasso, Ridge, ElasticNet, SGDRegressor\n",
    "import numpy as np\n",
    "import pandas as pd\n",
    "import matplotlib.pyplot as plt\n",
    "%matplotlib inline"
   ]
  },
  {
   "cell_type": "markdown",
   "metadata": {},
   "source": [
    "<h4>Problem1(a)</h4>"
   ]
  },
  {
   "cell_type": "code",
   "execution_count": 2,
   "metadata": {},
   "outputs": [
    {
     "data": {
      "text/html": [
       "<div>\n",
       "<style scoped>\n",
       "    .dataframe tbody tr th:only-of-type {\n",
       "        vertical-align: middle;\n",
       "    }\n",
       "\n",
       "    .dataframe tbody tr th {\n",
       "        vertical-align: top;\n",
       "    }\n",
       "\n",
       "    .dataframe thead th {\n",
       "        text-align: right;\n",
       "    }\n",
       "</style>\n",
       "<table border=\"1\" class=\"dataframe\">\n",
       "  <thead>\n",
       "    <tr style=\"text-align: right;\">\n",
       "      <th></th>\n",
       "      <th>state</th>\n",
       "      <th>communityname</th>\n",
       "      <th>population</th>\n",
       "      <th>householdsize</th>\n",
       "      <th>racepctblack</th>\n",
       "      <th>racePctWhite</th>\n",
       "      <th>racePctAsian</th>\n",
       "      <th>racePctHisp</th>\n",
       "      <th>agePct12t21</th>\n",
       "      <th>agePct12t29</th>\n",
       "      <th>...</th>\n",
       "      <th>NumStreet</th>\n",
       "      <th>PctForeignBorn</th>\n",
       "      <th>PctBornSameState</th>\n",
       "      <th>PctSameHouse85</th>\n",
       "      <th>PctSameCity85</th>\n",
       "      <th>PctSameState85</th>\n",
       "      <th>LandArea</th>\n",
       "      <th>PopDens</th>\n",
       "      <th>PctUsePubTrans</th>\n",
       "      <th>ViolentCrimesPerPop</th>\n",
       "    </tr>\n",
       "  </thead>\n",
       "  <tbody>\n",
       "    <tr>\n",
       "      <th>0</th>\n",
       "      <td>8</td>\n",
       "      <td>Lakewoodcity</td>\n",
       "      <td>0.19</td>\n",
       "      <td>0.33</td>\n",
       "      <td>0.02</td>\n",
       "      <td>0.90</td>\n",
       "      <td>0.12</td>\n",
       "      <td>0.17</td>\n",
       "      <td>0.34</td>\n",
       "      <td>0.47</td>\n",
       "      <td>...</td>\n",
       "      <td>0.00</td>\n",
       "      <td>0.12</td>\n",
       "      <td>0.42</td>\n",
       "      <td>0.50</td>\n",
       "      <td>0.51</td>\n",
       "      <td>0.64</td>\n",
       "      <td>0.12</td>\n",
       "      <td>0.26</td>\n",
       "      <td>0.20</td>\n",
       "      <td>0.20</td>\n",
       "    </tr>\n",
       "    <tr>\n",
       "      <th>1</th>\n",
       "      <td>53</td>\n",
       "      <td>Tukwilacity</td>\n",
       "      <td>0.00</td>\n",
       "      <td>0.16</td>\n",
       "      <td>0.12</td>\n",
       "      <td>0.74</td>\n",
       "      <td>0.45</td>\n",
       "      <td>0.07</td>\n",
       "      <td>0.26</td>\n",
       "      <td>0.59</td>\n",
       "      <td>...</td>\n",
       "      <td>0.00</td>\n",
       "      <td>0.21</td>\n",
       "      <td>0.50</td>\n",
       "      <td>0.34</td>\n",
       "      <td>0.60</td>\n",
       "      <td>0.52</td>\n",
       "      <td>0.02</td>\n",
       "      <td>0.12</td>\n",
       "      <td>0.45</td>\n",
       "      <td>0.67</td>\n",
       "    </tr>\n",
       "    <tr>\n",
       "      <th>2</th>\n",
       "      <td>24</td>\n",
       "      <td>Aberdeentown</td>\n",
       "      <td>0.00</td>\n",
       "      <td>0.42</td>\n",
       "      <td>0.49</td>\n",
       "      <td>0.56</td>\n",
       "      <td>0.17</td>\n",
       "      <td>0.04</td>\n",
       "      <td>0.39</td>\n",
       "      <td>0.47</td>\n",
       "      <td>...</td>\n",
       "      <td>0.00</td>\n",
       "      <td>0.14</td>\n",
       "      <td>0.49</td>\n",
       "      <td>0.54</td>\n",
       "      <td>0.67</td>\n",
       "      <td>0.56</td>\n",
       "      <td>0.01</td>\n",
       "      <td>0.21</td>\n",
       "      <td>0.02</td>\n",
       "      <td>0.43</td>\n",
       "    </tr>\n",
       "    <tr>\n",
       "      <th>3</th>\n",
       "      <td>34</td>\n",
       "      <td>Willingborotownship</td>\n",
       "      <td>0.04</td>\n",
       "      <td>0.77</td>\n",
       "      <td>1.00</td>\n",
       "      <td>0.08</td>\n",
       "      <td>0.12</td>\n",
       "      <td>0.10</td>\n",
       "      <td>0.51</td>\n",
       "      <td>0.50</td>\n",
       "      <td>...</td>\n",
       "      <td>0.00</td>\n",
       "      <td>0.19</td>\n",
       "      <td>0.30</td>\n",
       "      <td>0.73</td>\n",
       "      <td>0.64</td>\n",
       "      <td>0.65</td>\n",
       "      <td>0.02</td>\n",
       "      <td>0.39</td>\n",
       "      <td>0.28</td>\n",
       "      <td>0.12</td>\n",
       "    </tr>\n",
       "    <tr>\n",
       "      <th>4</th>\n",
       "      <td>42</td>\n",
       "      <td>Bethlehemtownship</td>\n",
       "      <td>0.01</td>\n",
       "      <td>0.55</td>\n",
       "      <td>0.02</td>\n",
       "      <td>0.95</td>\n",
       "      <td>0.09</td>\n",
       "      <td>0.05</td>\n",
       "      <td>0.38</td>\n",
       "      <td>0.38</td>\n",
       "      <td>...</td>\n",
       "      <td>0.00</td>\n",
       "      <td>0.11</td>\n",
       "      <td>0.72</td>\n",
       "      <td>0.64</td>\n",
       "      <td>0.61</td>\n",
       "      <td>0.53</td>\n",
       "      <td>0.04</td>\n",
       "      <td>0.09</td>\n",
       "      <td>0.02</td>\n",
       "      <td>0.03</td>\n",
       "    </tr>\n",
       "    <tr>\n",
       "      <th>...</th>\n",
       "      <td>...</td>\n",
       "      <td>...</td>\n",
       "      <td>...</td>\n",
       "      <td>...</td>\n",
       "      <td>...</td>\n",
       "      <td>...</td>\n",
       "      <td>...</td>\n",
       "      <td>...</td>\n",
       "      <td>...</td>\n",
       "      <td>...</td>\n",
       "      <td>...</td>\n",
       "      <td>...</td>\n",
       "      <td>...</td>\n",
       "      <td>...</td>\n",
       "      <td>...</td>\n",
       "      <td>...</td>\n",
       "      <td>...</td>\n",
       "      <td>...</td>\n",
       "      <td>...</td>\n",
       "      <td>...</td>\n",
       "      <td>...</td>\n",
       "    </tr>\n",
       "    <tr>\n",
       "      <th>1989</th>\n",
       "      <td>12</td>\n",
       "      <td>TempleTerracecity</td>\n",
       "      <td>0.01</td>\n",
       "      <td>0.40</td>\n",
       "      <td>0.10</td>\n",
       "      <td>0.87</td>\n",
       "      <td>0.12</td>\n",
       "      <td>0.16</td>\n",
       "      <td>0.43</td>\n",
       "      <td>0.51</td>\n",
       "      <td>...</td>\n",
       "      <td>0.00</td>\n",
       "      <td>0.22</td>\n",
       "      <td>0.28</td>\n",
       "      <td>0.34</td>\n",
       "      <td>0.48</td>\n",
       "      <td>0.39</td>\n",
       "      <td>0.01</td>\n",
       "      <td>0.28</td>\n",
       "      <td>0.05</td>\n",
       "      <td>0.09</td>\n",
       "    </tr>\n",
       "    <tr>\n",
       "      <th>1990</th>\n",
       "      <td>6</td>\n",
       "      <td>Seasidecity</td>\n",
       "      <td>0.05</td>\n",
       "      <td>0.96</td>\n",
       "      <td>0.46</td>\n",
       "      <td>0.28</td>\n",
       "      <td>0.83</td>\n",
       "      <td>0.32</td>\n",
       "      <td>0.69</td>\n",
       "      <td>0.86</td>\n",
       "      <td>...</td>\n",
       "      <td>0.00</td>\n",
       "      <td>0.53</td>\n",
       "      <td>0.25</td>\n",
       "      <td>0.17</td>\n",
       "      <td>0.10</td>\n",
       "      <td>0.00</td>\n",
       "      <td>0.02</td>\n",
       "      <td>0.37</td>\n",
       "      <td>0.20</td>\n",
       "      <td>0.45</td>\n",
       "    </tr>\n",
       "    <tr>\n",
       "      <th>1991</th>\n",
       "      <td>9</td>\n",
       "      <td>Waterburytown</td>\n",
       "      <td>0.16</td>\n",
       "      <td>0.37</td>\n",
       "      <td>0.25</td>\n",
       "      <td>0.69</td>\n",
       "      <td>0.04</td>\n",
       "      <td>0.25</td>\n",
       "      <td>0.35</td>\n",
       "      <td>0.50</td>\n",
       "      <td>...</td>\n",
       "      <td>0.02</td>\n",
       "      <td>0.25</td>\n",
       "      <td>0.68</td>\n",
       "      <td>0.61</td>\n",
       "      <td>0.79</td>\n",
       "      <td>0.76</td>\n",
       "      <td>0.08</td>\n",
       "      <td>0.32</td>\n",
       "      <td>0.18</td>\n",
       "      <td>0.23</td>\n",
       "    </tr>\n",
       "    <tr>\n",
       "      <th>1992</th>\n",
       "      <td>25</td>\n",
       "      <td>Walthamcity</td>\n",
       "      <td>0.08</td>\n",
       "      <td>0.51</td>\n",
       "      <td>0.06</td>\n",
       "      <td>0.87</td>\n",
       "      <td>0.22</td>\n",
       "      <td>0.10</td>\n",
       "      <td>0.58</td>\n",
       "      <td>0.74</td>\n",
       "      <td>...</td>\n",
       "      <td>0.01</td>\n",
       "      <td>0.45</td>\n",
       "      <td>0.64</td>\n",
       "      <td>0.54</td>\n",
       "      <td>0.59</td>\n",
       "      <td>0.52</td>\n",
       "      <td>0.03</td>\n",
       "      <td>0.38</td>\n",
       "      <td>0.33</td>\n",
       "      <td>0.19</td>\n",
       "    </tr>\n",
       "    <tr>\n",
       "      <th>1993</th>\n",
       "      <td>6</td>\n",
       "      <td>Ontariocity</td>\n",
       "      <td>0.20</td>\n",
       "      <td>0.78</td>\n",
       "      <td>0.14</td>\n",
       "      <td>0.46</td>\n",
       "      <td>0.24</td>\n",
       "      <td>0.77</td>\n",
       "      <td>0.50</td>\n",
       "      <td>0.62</td>\n",
       "      <td>...</td>\n",
       "      <td>0.08</td>\n",
       "      <td>0.68</td>\n",
       "      <td>0.50</td>\n",
       "      <td>0.34</td>\n",
       "      <td>0.35</td>\n",
       "      <td>0.68</td>\n",
       "      <td>0.11</td>\n",
       "      <td>0.30</td>\n",
       "      <td>0.05</td>\n",
       "      <td>0.48</td>\n",
       "    </tr>\n",
       "  </tbody>\n",
       "</table>\n",
       "<p>1994 rows × 100 columns</p>\n",
       "</div>"
      ],
      "text/plain": [
       "      state        communityname  population  householdsize  racepctblack  \\\n",
       "0         8         Lakewoodcity        0.19           0.33          0.02   \n",
       "1        53          Tukwilacity        0.00           0.16          0.12   \n",
       "2        24         Aberdeentown        0.00           0.42          0.49   \n",
       "3        34  Willingborotownship        0.04           0.77          1.00   \n",
       "4        42    Bethlehemtownship        0.01           0.55          0.02   \n",
       "...     ...                  ...         ...            ...           ...   \n",
       "1989     12    TempleTerracecity        0.01           0.40          0.10   \n",
       "1990      6          Seasidecity        0.05           0.96          0.46   \n",
       "1991      9        Waterburytown        0.16           0.37          0.25   \n",
       "1992     25          Walthamcity        0.08           0.51          0.06   \n",
       "1993      6          Ontariocity        0.20           0.78          0.14   \n",
       "\n",
       "      racePctWhite  racePctAsian  racePctHisp  agePct12t21  agePct12t29  ...  \\\n",
       "0             0.90          0.12         0.17         0.34         0.47  ...   \n",
       "1             0.74          0.45         0.07         0.26         0.59  ...   \n",
       "2             0.56          0.17         0.04         0.39         0.47  ...   \n",
       "3             0.08          0.12         0.10         0.51         0.50  ...   \n",
       "4             0.95          0.09         0.05         0.38         0.38  ...   \n",
       "...            ...           ...          ...          ...          ...  ...   \n",
       "1989          0.87          0.12         0.16         0.43         0.51  ...   \n",
       "1990          0.28          0.83         0.32         0.69         0.86  ...   \n",
       "1991          0.69          0.04         0.25         0.35         0.50  ...   \n",
       "1992          0.87          0.22         0.10         0.58         0.74  ...   \n",
       "1993          0.46          0.24         0.77         0.50         0.62  ...   \n",
       "\n",
       "      NumStreet  PctForeignBorn  PctBornSameState  PctSameHouse85  \\\n",
       "0          0.00            0.12              0.42            0.50   \n",
       "1          0.00            0.21              0.50            0.34   \n",
       "2          0.00            0.14              0.49            0.54   \n",
       "3          0.00            0.19              0.30            0.73   \n",
       "4          0.00            0.11              0.72            0.64   \n",
       "...         ...             ...               ...             ...   \n",
       "1989       0.00            0.22              0.28            0.34   \n",
       "1990       0.00            0.53              0.25            0.17   \n",
       "1991       0.02            0.25              0.68            0.61   \n",
       "1992       0.01            0.45              0.64            0.54   \n",
       "1993       0.08            0.68              0.50            0.34   \n",
       "\n",
       "      PctSameCity85  PctSameState85  LandArea  PopDens  PctUsePubTrans  \\\n",
       "0              0.51            0.64      0.12     0.26            0.20   \n",
       "1              0.60            0.52      0.02     0.12            0.45   \n",
       "2              0.67            0.56      0.01     0.21            0.02   \n",
       "3              0.64            0.65      0.02     0.39            0.28   \n",
       "4              0.61            0.53      0.04     0.09            0.02   \n",
       "...             ...             ...       ...      ...             ...   \n",
       "1989           0.48            0.39      0.01     0.28            0.05   \n",
       "1990           0.10            0.00      0.02     0.37            0.20   \n",
       "1991           0.79            0.76      0.08     0.32            0.18   \n",
       "1992           0.59            0.52      0.03     0.38            0.33   \n",
       "1993           0.35            0.68      0.11     0.30            0.05   \n",
       "\n",
       "      ViolentCrimesPerPop  \n",
       "0                    0.20  \n",
       "1                    0.67  \n",
       "2                    0.43  \n",
       "3                    0.12  \n",
       "4                    0.03  \n",
       "...                   ...  \n",
       "1989                 0.09  \n",
       "1990                 0.45  \n",
       "1991                 0.23  \n",
       "1992                 0.19  \n",
       "1993                 0.48  \n",
       "\n",
       "[1994 rows x 100 columns]"
      ]
     },
     "execution_count": 2,
     "metadata": {},
     "output_type": "execute_result"
    }
   ],
   "source": [
    "df=pd.read_csv(\"E:\\MyCourses\\CSC478ProgrammingMachineLearning\\homework3\\communities\\communities.csv\",na_values=['?'])\n",
    "df"
   ]
  },
  {
   "cell_type": "code",
   "execution_count": 3,
   "metadata": {},
   "outputs": [
    {
     "data": {
      "text/html": [
       "<div>\n",
       "<style scoped>\n",
       "    .dataframe tbody tr th:only-of-type {\n",
       "        vertical-align: middle;\n",
       "    }\n",
       "\n",
       "    .dataframe tbody tr th {\n",
       "        vertical-align: top;\n",
       "    }\n",
       "\n",
       "    .dataframe thead th {\n",
       "        text-align: right;\n",
       "    }\n",
       "</style>\n",
       "<table border=\"1\" class=\"dataframe\">\n",
       "  <thead>\n",
       "    <tr style=\"text-align: right;\">\n",
       "      <th></th>\n",
       "      <th>count</th>\n",
       "      <th>mean</th>\n",
       "      <th>std</th>\n",
       "      <th>min</th>\n",
       "      <th>25%</th>\n",
       "      <th>50%</th>\n",
       "      <th>75%</th>\n",
       "      <th>max</th>\n",
       "    </tr>\n",
       "  </thead>\n",
       "  <tbody>\n",
       "    <tr>\n",
       "      <th>state</th>\n",
       "      <td>1994.0</td>\n",
       "      <td>28.683551</td>\n",
       "      <td>16.397553</td>\n",
       "      <td>1.0</td>\n",
       "      <td>12.00</td>\n",
       "      <td>34.00</td>\n",
       "      <td>42.00</td>\n",
       "      <td>56.0</td>\n",
       "    </tr>\n",
       "    <tr>\n",
       "      <th>population</th>\n",
       "      <td>1994.0</td>\n",
       "      <td>0.057593</td>\n",
       "      <td>0.126906</td>\n",
       "      <td>0.0</td>\n",
       "      <td>0.01</td>\n",
       "      <td>0.02</td>\n",
       "      <td>0.05</td>\n",
       "      <td>1.0</td>\n",
       "    </tr>\n",
       "    <tr>\n",
       "      <th>householdsize</th>\n",
       "      <td>1994.0</td>\n",
       "      <td>0.463395</td>\n",
       "      <td>0.163717</td>\n",
       "      <td>0.0</td>\n",
       "      <td>0.35</td>\n",
       "      <td>0.44</td>\n",
       "      <td>0.54</td>\n",
       "      <td>1.0</td>\n",
       "    </tr>\n",
       "    <tr>\n",
       "      <th>racepctblack</th>\n",
       "      <td>1994.0</td>\n",
       "      <td>0.179629</td>\n",
       "      <td>0.253442</td>\n",
       "      <td>0.0</td>\n",
       "      <td>0.02</td>\n",
       "      <td>0.06</td>\n",
       "      <td>0.23</td>\n",
       "      <td>1.0</td>\n",
       "    </tr>\n",
       "    <tr>\n",
       "      <th>racePctWhite</th>\n",
       "      <td>1994.0</td>\n",
       "      <td>0.753716</td>\n",
       "      <td>0.244039</td>\n",
       "      <td>0.0</td>\n",
       "      <td>0.63</td>\n",
       "      <td>0.85</td>\n",
       "      <td>0.94</td>\n",
       "      <td>1.0</td>\n",
       "    </tr>\n",
       "    <tr>\n",
       "      <th>...</th>\n",
       "      <td>...</td>\n",
       "      <td>...</td>\n",
       "      <td>...</td>\n",
       "      <td>...</td>\n",
       "      <td>...</td>\n",
       "      <td>...</td>\n",
       "      <td>...</td>\n",
       "      <td>...</td>\n",
       "    </tr>\n",
       "    <tr>\n",
       "      <th>PctSameState85</th>\n",
       "      <td>1994.0</td>\n",
       "      <td>0.651530</td>\n",
       "      <td>0.198221</td>\n",
       "      <td>0.0</td>\n",
       "      <td>0.56</td>\n",
       "      <td>0.70</td>\n",
       "      <td>0.79</td>\n",
       "      <td>1.0</td>\n",
       "    </tr>\n",
       "    <tr>\n",
       "      <th>LandArea</th>\n",
       "      <td>1994.0</td>\n",
       "      <td>0.065231</td>\n",
       "      <td>0.109459</td>\n",
       "      <td>0.0</td>\n",
       "      <td>0.02</td>\n",
       "      <td>0.04</td>\n",
       "      <td>0.07</td>\n",
       "      <td>1.0</td>\n",
       "    </tr>\n",
       "    <tr>\n",
       "      <th>PopDens</th>\n",
       "      <td>1994.0</td>\n",
       "      <td>0.232854</td>\n",
       "      <td>0.203092</td>\n",
       "      <td>0.0</td>\n",
       "      <td>0.10</td>\n",
       "      <td>0.17</td>\n",
       "      <td>0.28</td>\n",
       "      <td>1.0</td>\n",
       "    </tr>\n",
       "    <tr>\n",
       "      <th>PctUsePubTrans</th>\n",
       "      <td>1994.0</td>\n",
       "      <td>0.161685</td>\n",
       "      <td>0.229055</td>\n",
       "      <td>0.0</td>\n",
       "      <td>0.02</td>\n",
       "      <td>0.07</td>\n",
       "      <td>0.19</td>\n",
       "      <td>1.0</td>\n",
       "    </tr>\n",
       "    <tr>\n",
       "      <th>ViolentCrimesPerPop</th>\n",
       "      <td>1994.0</td>\n",
       "      <td>0.237979</td>\n",
       "      <td>0.232985</td>\n",
       "      <td>0.0</td>\n",
       "      <td>0.07</td>\n",
       "      <td>0.15</td>\n",
       "      <td>0.33</td>\n",
       "      <td>1.0</td>\n",
       "    </tr>\n",
       "  </tbody>\n",
       "</table>\n",
       "<p>99 rows × 8 columns</p>\n",
       "</div>"
      ],
      "text/plain": [
       "                      count       mean        std  min    25%    50%    75%  \\\n",
       "state                1994.0  28.683551  16.397553  1.0  12.00  34.00  42.00   \n",
       "population           1994.0   0.057593   0.126906  0.0   0.01   0.02   0.05   \n",
       "householdsize        1994.0   0.463395   0.163717  0.0   0.35   0.44   0.54   \n",
       "racepctblack         1994.0   0.179629   0.253442  0.0   0.02   0.06   0.23   \n",
       "racePctWhite         1994.0   0.753716   0.244039  0.0   0.63   0.85   0.94   \n",
       "...                     ...        ...        ...  ...    ...    ...    ...   \n",
       "PctSameState85       1994.0   0.651530   0.198221  0.0   0.56   0.70   0.79   \n",
       "LandArea             1994.0   0.065231   0.109459  0.0   0.02   0.04   0.07   \n",
       "PopDens              1994.0   0.232854   0.203092  0.0   0.10   0.17   0.28   \n",
       "PctUsePubTrans       1994.0   0.161685   0.229055  0.0   0.02   0.07   0.19   \n",
       "ViolentCrimesPerPop  1994.0   0.237979   0.232985  0.0   0.07   0.15   0.33   \n",
       "\n",
       "                      max  \n",
       "state                56.0  \n",
       "population            1.0  \n",
       "householdsize         1.0  \n",
       "racepctblack          1.0  \n",
       "racePctWhite          1.0  \n",
       "...                   ...  \n",
       "PctSameState85        1.0  \n",
       "LandArea              1.0  \n",
       "PopDens               1.0  \n",
       "PctUsePubTrans        1.0  \n",
       "ViolentCrimesPerPop   1.0  \n",
       "\n",
       "[99 rows x 8 columns]"
      ]
     },
     "execution_count": 3,
     "metadata": {},
     "output_type": "execute_result"
    }
   ],
   "source": [
    "df.describe().T"
   ]
  },
  {
   "cell_type": "code",
   "execution_count": 4,
   "metadata": {},
   "outputs": [
    {
     "data": {
      "text/html": [
       "<div>\n",
       "<style scoped>\n",
       "    .dataframe tbody tr th:only-of-type {\n",
       "        vertical-align: middle;\n",
       "    }\n",
       "\n",
       "    .dataframe tbody tr th {\n",
       "        vertical-align: top;\n",
       "    }\n",
       "\n",
       "    .dataframe thead th {\n",
       "        text-align: right;\n",
       "    }\n",
       "</style>\n",
       "<table border=\"1\" class=\"dataframe\">\n",
       "  <thead>\n",
       "    <tr style=\"text-align: right;\">\n",
       "      <th></th>\n",
       "      <th>state</th>\n",
       "      <th>communityname</th>\n",
       "      <th>population</th>\n",
       "      <th>householdsize</th>\n",
       "      <th>racepctblack</th>\n",
       "      <th>racePctWhite</th>\n",
       "      <th>racePctAsian</th>\n",
       "      <th>racePctHisp</th>\n",
       "      <th>agePct12t21</th>\n",
       "      <th>agePct12t29</th>\n",
       "      <th>...</th>\n",
       "      <th>NumStreet</th>\n",
       "      <th>PctForeignBorn</th>\n",
       "      <th>PctBornSameState</th>\n",
       "      <th>PctSameHouse85</th>\n",
       "      <th>PctSameCity85</th>\n",
       "      <th>PctSameState85</th>\n",
       "      <th>LandArea</th>\n",
       "      <th>PopDens</th>\n",
       "      <th>PctUsePubTrans</th>\n",
       "      <th>ViolentCrimesPerPop</th>\n",
       "    </tr>\n",
       "  </thead>\n",
       "  <tbody>\n",
       "    <tr>\n",
       "      <th>0</th>\n",
       "      <td>8</td>\n",
       "      <td>Lakewoodcity</td>\n",
       "      <td>0.19</td>\n",
       "      <td>0.33</td>\n",
       "      <td>0.02</td>\n",
       "      <td>0.90</td>\n",
       "      <td>0.12</td>\n",
       "      <td>0.17</td>\n",
       "      <td>0.34</td>\n",
       "      <td>0.47</td>\n",
       "      <td>...</td>\n",
       "      <td>0.00</td>\n",
       "      <td>0.12</td>\n",
       "      <td>0.42</td>\n",
       "      <td>0.50</td>\n",
       "      <td>0.51</td>\n",
       "      <td>0.64</td>\n",
       "      <td>0.12</td>\n",
       "      <td>0.26</td>\n",
       "      <td>0.20</td>\n",
       "      <td>0.20</td>\n",
       "    </tr>\n",
       "    <tr>\n",
       "      <th>1</th>\n",
       "      <td>53</td>\n",
       "      <td>Tukwilacity</td>\n",
       "      <td>0.00</td>\n",
       "      <td>0.16</td>\n",
       "      <td>0.12</td>\n",
       "      <td>0.74</td>\n",
       "      <td>0.45</td>\n",
       "      <td>0.07</td>\n",
       "      <td>0.26</td>\n",
       "      <td>0.59</td>\n",
       "      <td>...</td>\n",
       "      <td>0.00</td>\n",
       "      <td>0.21</td>\n",
       "      <td>0.50</td>\n",
       "      <td>0.34</td>\n",
       "      <td>0.60</td>\n",
       "      <td>0.52</td>\n",
       "      <td>0.02</td>\n",
       "      <td>0.12</td>\n",
       "      <td>0.45</td>\n",
       "      <td>0.67</td>\n",
       "    </tr>\n",
       "    <tr>\n",
       "      <th>2</th>\n",
       "      <td>24</td>\n",
       "      <td>Aberdeentown</td>\n",
       "      <td>0.00</td>\n",
       "      <td>0.42</td>\n",
       "      <td>0.49</td>\n",
       "      <td>0.56</td>\n",
       "      <td>0.17</td>\n",
       "      <td>0.04</td>\n",
       "      <td>0.39</td>\n",
       "      <td>0.47</td>\n",
       "      <td>...</td>\n",
       "      <td>0.00</td>\n",
       "      <td>0.14</td>\n",
       "      <td>0.49</td>\n",
       "      <td>0.54</td>\n",
       "      <td>0.67</td>\n",
       "      <td>0.56</td>\n",
       "      <td>0.01</td>\n",
       "      <td>0.21</td>\n",
       "      <td>0.02</td>\n",
       "      <td>0.43</td>\n",
       "    </tr>\n",
       "    <tr>\n",
       "      <th>3</th>\n",
       "      <td>34</td>\n",
       "      <td>Willingborotownship</td>\n",
       "      <td>0.04</td>\n",
       "      <td>0.77</td>\n",
       "      <td>1.00</td>\n",
       "      <td>0.08</td>\n",
       "      <td>0.12</td>\n",
       "      <td>0.10</td>\n",
       "      <td>0.51</td>\n",
       "      <td>0.50</td>\n",
       "      <td>...</td>\n",
       "      <td>0.00</td>\n",
       "      <td>0.19</td>\n",
       "      <td>0.30</td>\n",
       "      <td>0.73</td>\n",
       "      <td>0.64</td>\n",
       "      <td>0.65</td>\n",
       "      <td>0.02</td>\n",
       "      <td>0.39</td>\n",
       "      <td>0.28</td>\n",
       "      <td>0.12</td>\n",
       "    </tr>\n",
       "    <tr>\n",
       "      <th>4</th>\n",
       "      <td>42</td>\n",
       "      <td>Bethlehemtownship</td>\n",
       "      <td>0.01</td>\n",
       "      <td>0.55</td>\n",
       "      <td>0.02</td>\n",
       "      <td>0.95</td>\n",
       "      <td>0.09</td>\n",
       "      <td>0.05</td>\n",
       "      <td>0.38</td>\n",
       "      <td>0.38</td>\n",
       "      <td>...</td>\n",
       "      <td>0.00</td>\n",
       "      <td>0.11</td>\n",
       "      <td>0.72</td>\n",
       "      <td>0.64</td>\n",
       "      <td>0.61</td>\n",
       "      <td>0.53</td>\n",
       "      <td>0.04</td>\n",
       "      <td>0.09</td>\n",
       "      <td>0.02</td>\n",
       "      <td>0.03</td>\n",
       "    </tr>\n",
       "    <tr>\n",
       "      <th>...</th>\n",
       "      <td>...</td>\n",
       "      <td>...</td>\n",
       "      <td>...</td>\n",
       "      <td>...</td>\n",
       "      <td>...</td>\n",
       "      <td>...</td>\n",
       "      <td>...</td>\n",
       "      <td>...</td>\n",
       "      <td>...</td>\n",
       "      <td>...</td>\n",
       "      <td>...</td>\n",
       "      <td>...</td>\n",
       "      <td>...</td>\n",
       "      <td>...</td>\n",
       "      <td>...</td>\n",
       "      <td>...</td>\n",
       "      <td>...</td>\n",
       "      <td>...</td>\n",
       "      <td>...</td>\n",
       "      <td>...</td>\n",
       "      <td>...</td>\n",
       "    </tr>\n",
       "    <tr>\n",
       "      <th>1989</th>\n",
       "      <td>12</td>\n",
       "      <td>TempleTerracecity</td>\n",
       "      <td>0.01</td>\n",
       "      <td>0.40</td>\n",
       "      <td>0.10</td>\n",
       "      <td>0.87</td>\n",
       "      <td>0.12</td>\n",
       "      <td>0.16</td>\n",
       "      <td>0.43</td>\n",
       "      <td>0.51</td>\n",
       "      <td>...</td>\n",
       "      <td>0.00</td>\n",
       "      <td>0.22</td>\n",
       "      <td>0.28</td>\n",
       "      <td>0.34</td>\n",
       "      <td>0.48</td>\n",
       "      <td>0.39</td>\n",
       "      <td>0.01</td>\n",
       "      <td>0.28</td>\n",
       "      <td>0.05</td>\n",
       "      <td>0.09</td>\n",
       "    </tr>\n",
       "    <tr>\n",
       "      <th>1990</th>\n",
       "      <td>6</td>\n",
       "      <td>Seasidecity</td>\n",
       "      <td>0.05</td>\n",
       "      <td>0.96</td>\n",
       "      <td>0.46</td>\n",
       "      <td>0.28</td>\n",
       "      <td>0.83</td>\n",
       "      <td>0.32</td>\n",
       "      <td>0.69</td>\n",
       "      <td>0.86</td>\n",
       "      <td>...</td>\n",
       "      <td>0.00</td>\n",
       "      <td>0.53</td>\n",
       "      <td>0.25</td>\n",
       "      <td>0.17</td>\n",
       "      <td>0.10</td>\n",
       "      <td>0.00</td>\n",
       "      <td>0.02</td>\n",
       "      <td>0.37</td>\n",
       "      <td>0.20</td>\n",
       "      <td>0.45</td>\n",
       "    </tr>\n",
       "    <tr>\n",
       "      <th>1991</th>\n",
       "      <td>9</td>\n",
       "      <td>Waterburytown</td>\n",
       "      <td>0.16</td>\n",
       "      <td>0.37</td>\n",
       "      <td>0.25</td>\n",
       "      <td>0.69</td>\n",
       "      <td>0.04</td>\n",
       "      <td>0.25</td>\n",
       "      <td>0.35</td>\n",
       "      <td>0.50</td>\n",
       "      <td>...</td>\n",
       "      <td>0.02</td>\n",
       "      <td>0.25</td>\n",
       "      <td>0.68</td>\n",
       "      <td>0.61</td>\n",
       "      <td>0.79</td>\n",
       "      <td>0.76</td>\n",
       "      <td>0.08</td>\n",
       "      <td>0.32</td>\n",
       "      <td>0.18</td>\n",
       "      <td>0.23</td>\n",
       "    </tr>\n",
       "    <tr>\n",
       "      <th>1992</th>\n",
       "      <td>25</td>\n",
       "      <td>Walthamcity</td>\n",
       "      <td>0.08</td>\n",
       "      <td>0.51</td>\n",
       "      <td>0.06</td>\n",
       "      <td>0.87</td>\n",
       "      <td>0.22</td>\n",
       "      <td>0.10</td>\n",
       "      <td>0.58</td>\n",
       "      <td>0.74</td>\n",
       "      <td>...</td>\n",
       "      <td>0.01</td>\n",
       "      <td>0.45</td>\n",
       "      <td>0.64</td>\n",
       "      <td>0.54</td>\n",
       "      <td>0.59</td>\n",
       "      <td>0.52</td>\n",
       "      <td>0.03</td>\n",
       "      <td>0.38</td>\n",
       "      <td>0.33</td>\n",
       "      <td>0.19</td>\n",
       "    </tr>\n",
       "    <tr>\n",
       "      <th>1993</th>\n",
       "      <td>6</td>\n",
       "      <td>Ontariocity</td>\n",
       "      <td>0.20</td>\n",
       "      <td>0.78</td>\n",
       "      <td>0.14</td>\n",
       "      <td>0.46</td>\n",
       "      <td>0.24</td>\n",
       "      <td>0.77</td>\n",
       "      <td>0.50</td>\n",
       "      <td>0.62</td>\n",
       "      <td>...</td>\n",
       "      <td>0.08</td>\n",
       "      <td>0.68</td>\n",
       "      <td>0.50</td>\n",
       "      <td>0.34</td>\n",
       "      <td>0.35</td>\n",
       "      <td>0.68</td>\n",
       "      <td>0.11</td>\n",
       "      <td>0.30</td>\n",
       "      <td>0.05</td>\n",
       "      <td>0.48</td>\n",
       "    </tr>\n",
       "  </tbody>\n",
       "</table>\n",
       "<p>1993 rows × 100 columns</p>\n",
       "</div>"
      ],
      "text/plain": [
       "      state        communityname  population  householdsize  racepctblack  \\\n",
       "0         8         Lakewoodcity        0.19           0.33          0.02   \n",
       "1        53          Tukwilacity        0.00           0.16          0.12   \n",
       "2        24         Aberdeentown        0.00           0.42          0.49   \n",
       "3        34  Willingborotownship        0.04           0.77          1.00   \n",
       "4        42    Bethlehemtownship        0.01           0.55          0.02   \n",
       "...     ...                  ...         ...            ...           ...   \n",
       "1989     12    TempleTerracecity        0.01           0.40          0.10   \n",
       "1990      6          Seasidecity        0.05           0.96          0.46   \n",
       "1991      9        Waterburytown        0.16           0.37          0.25   \n",
       "1992     25          Walthamcity        0.08           0.51          0.06   \n",
       "1993      6          Ontariocity        0.20           0.78          0.14   \n",
       "\n",
       "      racePctWhite  racePctAsian  racePctHisp  agePct12t21  agePct12t29  ...  \\\n",
       "0             0.90          0.12         0.17         0.34         0.47  ...   \n",
       "1             0.74          0.45         0.07         0.26         0.59  ...   \n",
       "2             0.56          0.17         0.04         0.39         0.47  ...   \n",
       "3             0.08          0.12         0.10         0.51         0.50  ...   \n",
       "4             0.95          0.09         0.05         0.38         0.38  ...   \n",
       "...            ...           ...          ...          ...          ...  ...   \n",
       "1989          0.87          0.12         0.16         0.43         0.51  ...   \n",
       "1990          0.28          0.83         0.32         0.69         0.86  ...   \n",
       "1991          0.69          0.04         0.25         0.35         0.50  ...   \n",
       "1992          0.87          0.22         0.10         0.58         0.74  ...   \n",
       "1993          0.46          0.24         0.77         0.50         0.62  ...   \n",
       "\n",
       "      NumStreet  PctForeignBorn  PctBornSameState  PctSameHouse85  \\\n",
       "0          0.00            0.12              0.42            0.50   \n",
       "1          0.00            0.21              0.50            0.34   \n",
       "2          0.00            0.14              0.49            0.54   \n",
       "3          0.00            0.19              0.30            0.73   \n",
       "4          0.00            0.11              0.72            0.64   \n",
       "...         ...             ...               ...             ...   \n",
       "1989       0.00            0.22              0.28            0.34   \n",
       "1990       0.00            0.53              0.25            0.17   \n",
       "1991       0.02            0.25              0.68            0.61   \n",
       "1992       0.01            0.45              0.64            0.54   \n",
       "1993       0.08            0.68              0.50            0.34   \n",
       "\n",
       "      PctSameCity85  PctSameState85  LandArea  PopDens  PctUsePubTrans  \\\n",
       "0              0.51            0.64      0.12     0.26            0.20   \n",
       "1              0.60            0.52      0.02     0.12            0.45   \n",
       "2              0.67            0.56      0.01     0.21            0.02   \n",
       "3              0.64            0.65      0.02     0.39            0.28   \n",
       "4              0.61            0.53      0.04     0.09            0.02   \n",
       "...             ...             ...       ...      ...             ...   \n",
       "1989           0.48            0.39      0.01     0.28            0.05   \n",
       "1990           0.10            0.00      0.02     0.37            0.20   \n",
       "1991           0.79            0.76      0.08     0.32            0.18   \n",
       "1992           0.59            0.52      0.03     0.38            0.33   \n",
       "1993           0.35            0.68      0.11     0.30            0.05   \n",
       "\n",
       "      ViolentCrimesPerPop  \n",
       "0                    0.20  \n",
       "1                    0.67  \n",
       "2                    0.43  \n",
       "3                    0.12  \n",
       "4                    0.03  \n",
       "...                   ...  \n",
       "1989                 0.09  \n",
       "1990                 0.45  \n",
       "1991                 0.23  \n",
       "1992                 0.19  \n",
       "1993                 0.48  \n",
       "\n",
       "[1993 rows x 100 columns]"
      ]
     },
     "execution_count": 4,
     "metadata": {},
     "output_type": "execute_result"
    }
   ],
   "source": [
    "df.dropna(axis=0,how='any',inplace=True)\n",
    "df"
   ]
  },
  {
   "cell_type": "code",
   "execution_count": 5,
   "metadata": {},
   "outputs": [],
   "source": [
    "y=df.ViolentCrimesPerPop\n",
    "X=df[df.columns.values[2:99]]"
   ]
  },
  {
   "cell_type": "code",
   "execution_count": 6,
   "metadata": {},
   "outputs": [],
   "source": [
    "from sklearn.model_selection import train_test_split\n",
    "X_train, X_test, y_train, y_test = train_test_split(X, y, test_size=.2, random_state=33)"
   ]
  },
  {
   "cell_type": "markdown",
   "metadata": {},
   "source": [
    "<h4>Problem1(b)</h4>"
   ]
  },
  {
   "cell_type": "code",
   "execution_count": 7,
   "metadata": {},
   "outputs": [],
   "source": [
    "#define the standard linear regression\n",
    "def standRegres(xArr,yArr):\n",
    "    xMat = np.mat(xArr); yMat = np.mat(yArr).T\n",
    "    xTx = xMat.T*xMat\n",
    "    if np.linalg.det(xTx) == 0.0:\n",
    "        print(\"This matrix is singular, cannot do inverse\")\n",
    "        return\n",
    "    ws = xTx.I * (xMat.T*yMat)\n",
    "    return ws"
   ]
  },
  {
   "cell_type": "code",
   "execution_count": 8,
   "metadata": {},
   "outputs": [
    {
     "data": {
      "text/plain": [
       "(97,)"
      ]
     },
     "execution_count": 8,
     "metadata": {},
     "output_type": "execute_result"
    }
   ],
   "source": [
    "ws=standRegres(X_train, y_train)\n",
    "ws.A.ravel().shape"
   ]
  },
  {
   "cell_type": "code",
   "execution_count": 9,
   "metadata": {},
   "outputs": [
    {
     "data": {
      "text/plain": [
       "(97, 1)"
      ]
     },
     "execution_count": 9,
     "metadata": {},
     "output_type": "execute_result"
    }
   ],
   "source": [
    "xMat=np.mat(X_train)\n",
    "yMat=np.mat(y_train)\n",
    "yPred=xMat*ws\n",
    "yPred_arr=yPred.A.ravel()\n",
    "ws.shape"
   ]
  },
  {
   "cell_type": "code",
   "execution_count": 10,
   "metadata": {},
   "outputs": [
    {
     "data": {
      "text/plain": [
       "97"
      ]
     },
     "execution_count": 10,
     "metadata": {},
     "output_type": "execute_result"
    }
   ],
   "source": [
    "#Compute RMSE on training data\n",
    "err=abs(yPred_arr-np.array(y_train))\n",
    "err\n",
    "len(np.array(X_train.columns.values))"
   ]
  },
  {
   "cell_type": "code",
   "execution_count": 11,
   "metadata": {},
   "outputs": [
    {
     "data": {
      "image/png": "[encoded data removed]",
      "text/plain": [
       "<Figure size 432x288 with 1 Axes>"
      ]
     },
     "metadata": {
      "needs_background": "light"
     },
     "output_type": "display_data"
    }
   ],
   "source": [
    "def plot_coefficients(coef, n_features, feature_names):\n",
    "    plt.barh(range(n_features), coef, align='center')\n",
    "    plt.yticks(np.arange(n_features), feature_names)\n",
    "    plt.xlabel(\"Coefficient Value\")\n",
    "    plt.ylabel(\"Feature\")\n",
    "    plt.ylim(-1, n_features)\n",
    "\n",
    "plot_coefficients(ws.A.ravel(), len(np.array(X_train.columns)), np.array(X_train.columns.values))"
   ]
  },
  {
   "cell_type": "code",
   "execution_count": 12,
   "metadata": {},
   "outputs": [
    {
     "data": {
      "image/png": "[encoded data removed]",
      "text/plain": [
       "<Figure size 432x288 with 1 Axes>"
      ]
     },
     "metadata": {
      "needs_background": "light"
     },
     "output_type": "display_data"
    }
   ],
   "source": [
    "#plot the predicted against actual\n",
    "plt.plot(X_train, y_train,'ro', markersize=.1)\n",
    "plt.plot([0,1],[0,1], 'g-')\n",
    "plt.xlabel('Predicted')\n",
    "plt.ylabel('Actual')\n",
    "plt.show()"
   ]
  },
  {
   "cell_type": "code",
   "execution_count": 13,
   "metadata": {},
   "outputs": [],
   "source": [
    "def cross_validate1(X, y, n, verbose=False):\n",
    "    # model: regression model to be trained\n",
    "    # X: the data matrix\n",
    "    # y: the target variable array\n",
    "    # n: the number of fold for x-validation\n",
    "    # Returns mean RMSE across all folds\n",
    "    \n",
    "    from sklearn.model_selection import KFold\n",
    "    kf = KFold(n_splits=n, random_state=22,shuffle=True)\n",
    "    xval_err = 0\n",
    "    f = 1\n",
    "    for train,test in kf.split(X):\n",
    "        ws=standRegres(X[train],y[train])\n",
    "        p = (np.mat(X[test])*ws).A.ravel()\n",
    "        e = p-y[test]\n",
    "        rmse = np.sqrt(np.dot(e,e)/len(X[test]))\n",
    "        if verbose:\n",
    "            print(\"Fold %2d RMSE: %.4f\" % (f, rmse))\n",
    "        xval_err += rmse\n",
    "        f += 1\n",
    "    return xval_err/n"
   ]
  },
  {
   "cell_type": "code",
   "execution_count": 182,
   "metadata": {},
   "outputs": [
    {
     "name": "stdout",
     "output_type": "stream",
     "text": [
      "Fold  1 RMSE: 0.1330\n",
      "Fold  2 RMSE: 0.1349\n",
      "Fold  3 RMSE: 0.1288\n",
      "Fold  4 RMSE: 0.1348\n",
      "Fold  5 RMSE: 0.1347\n",
      "Fold  6 RMSE: 0.1404\n",
      "Fold  7 RMSE: 0.1427\n",
      "Fold  8 RMSE: 0.1227\n",
      "Fold  9 RMSE: 0.1325\n",
      "Fold 10 RMSE: 0.1665\n"
     ]
    },
    {
     "data": {
      "text/plain": [
       "0.13709769960455429"
      ]
     },
     "execution_count": 182,
     "metadata": {},
     "output_type": "execute_result"
    }
   ],
   "source": [
    "rmse_10 = cross_validate1(np.array(X_train), np.array(y_train), 10,verbose=True)\n",
    "rmse_10"
   ]
  },
  {
   "cell_type": "markdown",
   "metadata": {},
   "source": [
    "<h4>Problem1(c)</h4>"
   ]
  },
  {
   "cell_type": "code",
   "execution_count": 15,
   "metadata": {},
   "outputs": [],
   "source": [
    "from sklearn import feature_selection\n",
    "fs=feature_selection.SelectPercentile(feature_selection.f_regression,percentile=30)\n",
    "X_fs=fs.fit_transform(X, y)"
   ]
  },
  {
   "cell_type": "code",
   "execution_count": 16,
   "metadata": {},
   "outputs": [],
   "source": [
    "from sklearn.model_selection import train_test_split\n",
    "X_train_fs, X_test_fs, y_train_fs, y_test_fs = train_test_split(X_fs, y, test_size=.2, random_state=33)"
   ]
  },
  {
   "cell_type": "code",
   "execution_count": 17,
   "metadata": {},
   "outputs": [
    {
     "name": "stdout",
     "output_type": "stream",
     "text": [
      "['population', 'householdsize', 'racepctblack', 'racePctWhite', 'racePctAsian', 'racePctHisp', 'agePct12t21', 'agePct12t29', 'agePct16t24', 'agePct65up', 'numbUrban', 'pctUrban', 'medIncome', 'pctWWage', 'pctWFarmSelf', 'pctWInvInc', 'pctWSocSec', 'pctWPubAsst', 'pctWRetire', 'medFamInc', 'perCapInc', 'whitePerCap', 'blackPerCap', 'indianPerCap', 'AsianPerCap', 'OtherPerCap', 'HispPerCap', 'NumUnderPov', 'PctPopUnderPov', 'PctLess9thGrade', 'PctNotHSGrad', 'PctBSorMore', 'PctUnemployed', 'PctEmploy', 'PctEmplManu', 'PctEmplProfServ', 'MalePctDivorce', 'MalePctNevMarr', 'FemalePctDiv', 'TotalPctDiv', 'PersPerFam', 'PctFam2Par', 'PctKids2Par', 'PctYoungKids2Par', 'PctTeen2Par', 'PctWorkMomYoungKids', 'PctWorkMom', 'NumIlleg', 'PctIlleg', 'NumImmig', 'PctImmigRecent', 'PctImmigRec5', 'PctImmigRec8', 'PctImmigRec10', 'PctRecentImmig', 'PctRecImmig5', 'PctRecImmig8', 'PctRecImmig10', 'PctSpeakEnglOnly', 'PctNotSpeakEnglWell', 'PctLargHouseFam', 'PctLargHouseOccup', 'PersPerOccupHous', 'PersPerOwnOccHous', 'PersPerRentOccHous', 'PctPersOwnOccup', 'PctPersDenseHous', 'PctHousLess3BR', 'MedNumBR', 'HousVacant', 'PctHousOccup', 'PctHousOwnOcc', 'PctVacantBoarded', 'PctVacMore6Mos', 'MedYrHousBuilt', 'PctHousNoPhone', 'PctWOFullPlumb', 'OwnOccLowQuart', 'OwnOccMedVal', 'OwnOccHiQuart', 'RentLowQ', 'RentMedian', 'RentHighQ', 'MedRent', 'MedRentPctHousInc', 'MedOwnCostPctInc', 'MedOwnCostPctIncNoMtg', 'NumInShelters', 'NumStreet', 'PctForeignBorn', 'PctBornSameState', 'PctSameHouse85', 'PctSameCity85', 'PctSameState85', 'LandArea', 'PopDens', 'PctUsePubTrans']\n",
      "[False False  True  True False False False False False False False False  True False False  True False  True False\n",
      "  True False False False False False False False  True  True  True  True False  True False False False  True False\n",
      "  True  True False  True  True  True  True False False  True  True False False False False False False False False\n",
      " False False False  True False False False False  True  True  True False  True False  True  True False False  True\n",
      " False False False False False False False False False False False  True False False False False False False False\n",
      " False False]\n",
      "[ 310.22    2.43 1330.48 1766.24    2.82  187.07    7.31   47.96   19.85    9.03  302.     13.49  437.44  205.34\n",
      "   47.8   991.11   28.13  985.09   19.48  476.15  281.89   91.2   163.47   16.58   49.39   32.3   126.74  498.77\n",
      "  748.35  405.22  607.29  218.84  681.73  246.54    4.02   10.22  759.66  203.6   891.48  876.59   40.18 1994.74\n",
      " 2398.93 1596.53 1555.9     1.01   46.18  567.69 2399.44  188.72   60.61   97.52  130.73  185.17  112.01  130.56\n",
      "  136.41  149.51  123.31  196.96  343.27  189.51    3.15   31.32  130.88  759.58  513.78  578.5   291.6   429.89\n",
      "  225.74  566.62  605.32    0.9    24.39  623.65  305.41   92.41   75.2    60.82  135.05  122.4   113.68  121.68\n",
      "  235.28    8.15    5.79  327.33  260.72   78.21   11.93   49.27   11.44    0.75   80.22  171.22   48.26]\n"
     ]
    }
   ],
   "source": [
    "np.set_printoptions(suppress=True,precision=2,linewidth=120)\n",
    "print(list(X.columns))\n",
    "print(fs.get_support())\n",
    "print(fs.scores_)"
   ]
  },
  {
   "cell_type": "code",
   "execution_count": 209,
   "metadata": {},
   "outputs": [
    {
     "data": {
      "text/plain": [
       "array(['racepctblack', 'racePctWhite', 'medIncome', 'pctWInvInc', 'pctWPubAsst', 'medFamInc', 'NumUnderPov',\n",
       "       'PctPopUnderPov', 'PctLess9thGrade', 'PctNotHSGrad', 'PctUnemployed', 'MalePctDivorce', 'FemalePctDiv',\n",
       "       'TotalPctDiv', 'PctFam2Par', 'PctKids2Par', 'PctYoungKids2Par', 'PctTeen2Par', 'NumIlleg', 'PctIlleg',\n",
       "       'PctLargHouseFam', 'PctPersOwnOccup', 'PctPersDenseHous', 'PctHousLess3BR', 'HousVacant', 'PctHousOwnOcc',\n",
       "       'PctVacantBoarded', 'PctHousNoPhone', 'NumInShelters'], dtype=object)"
      ]
     },
     "execution_count": 209,
     "metadata": {},
     "output_type": "execute_result"
    }
   ],
   "source": [
    "X_fs_columns=X.columns[fs.get_support()].values\n",
    "X_fs_columns"
   ]
  },
  {
   "cell_type": "code",
   "execution_count": 19,
   "metadata": {},
   "outputs": [
    {
     "name": "stdout",
     "output_type": "stream",
     "text": [
      "    racepctblack 310.220\n",
      "    racePctWhite 2.433\n",
      "       medIncome 1330.478\n",
      "      pctWInvInc 1766.241\n",
      "     pctWPubAsst 2.821\n",
      "       medFamInc 187.068\n",
      "     NumUnderPov 7.309\n",
      "  PctPopUnderPov 47.956\n",
      " PctLess9thGrade 19.845\n",
      "    PctNotHSGrad 9.032\n",
      "   PctUnemployed 301.999\n",
      "  MalePctDivorce 13.494\n",
      "    FemalePctDiv 437.445\n",
      "     TotalPctDiv 205.337\n",
      "      PctFam2Par 47.803\n",
      "     PctKids2Par 991.107\n",
      "PctYoungKids2Par 28.127\n",
      "     PctTeen2Par 985.088\n",
      "        NumIlleg 19.483\n",
      "        PctIlleg 476.151\n",
      " PctLargHouseFam 281.893\n",
      " PctPersOwnOccup 91.196\n",
      "PctPersDenseHous 163.468\n",
      "  PctHousLess3BR 16.581\n",
      "      HousVacant 49.394\n",
      "   PctHousOwnOcc 32.298\n",
      "PctVacantBoarded 126.743\n",
      "  PctHousNoPhone 498.774\n",
      "   NumInShelters 748.346\n"
     ]
    }
   ],
   "source": [
    "for i in range(len(X_fs_columns)):\n",
    "    print(\"%16s %5.3f\" % (X_fs_columns[i],fs.scores_[i]))"
   ]
  },
  {
   "cell_type": "markdown",
   "metadata": {},
   "source": [
    "<h4>Now train models using selected features</h4>"
   ]
  },
  {
   "cell_type": "code",
   "execution_count": 21,
   "metadata": {},
   "outputs": [
    {
     "data": {
      "text/plain": [
       "LinearRegression(copy_X=True, fit_intercept=True, n_jobs=None, normalize=False)"
      ]
     },
     "execution_count": 21,
     "metadata": {},
     "output_type": "execute_result"
    }
   ],
   "source": [
    "#create linear regression object and train the model\n",
    "linreg=LinearRegression()\n",
    "linreg.fit(X_train_fs, np.array(y_train))"
   ]
  },
  {
   "cell_type": "code",
   "execution_count": 22,
   "metadata": {},
   "outputs": [
    {
     "name": "stdout",
     "output_type": "stream",
     "text": [
      " 0 \t 0.29 \t 0.31\n",
      " 1 \t 0.29 \t 0.05\n",
      " 2 \t 0.00 \t 0.22\n",
      " 3 \t -0.02 \t 0.10\n",
      " 4 \t 0.27 \t 0.31\n",
      " 5 \t 0.06 \t 0.19\n",
      " 6 \t 0.38 \t 0.52\n",
      " 7 \t 0.07 \t 0.08\n",
      " 8 \t 0.23 \t 0.22\n",
      " 9 \t 0.15 \t 0.71\n"
     ]
    }
   ],
   "source": [
    "for i in range(10):\n",
    "    pred=linreg.predict([X_train_fs[i]])\n",
    "    print(\"%2d \\t %2.2f \\t %2.2f\"%(i,pred,np.array(y_train)[i]))"
   ]
  },
  {
   "cell_type": "markdown",
   "metadata": {},
   "source": [
    "<h4>Compute RMSE on training data</h4>"
   ]
  },
  {
   "cell_type": "code",
   "execution_count": 23,
   "metadata": {},
   "outputs": [
    {
     "data": {
      "text/plain": [
       "array([0.02, 0.24, 0.22, ..., 0.3 , 0.06, 0.04])"
      ]
     },
     "execution_count": 23,
     "metadata": {},
     "output_type": "execute_result"
    }
   ],
   "source": [
    "p=linreg.predict(X_train_fs)\n",
    "y_train_arr=np.array(y_train)\n",
    "err=abs(p-y_train_arr)\n",
    "err"
   ]
  },
  {
   "cell_type": "code",
   "execution_count": 24,
   "metadata": {},
   "outputs": [
    {
     "name": "stdout",
     "output_type": "stream",
     "text": [
      "RMSE on training Data:  0.13531841972798095\n"
     ]
    }
   ],
   "source": [
    "total_error=np.dot(err,err)\n",
    "rmse_train=np.sqrt(total_error/len(p))\n",
    "print(\"RMSE on training Data: \",rmse_train)"
   ]
  },
  {
   "cell_type": "code",
   "execution_count": 25,
   "metadata": {},
   "outputs": [
    {
     "name": "stdout",
     "output_type": "stream",
     "text": [
      "Regression Cofficients: \n",
      " [ 0.2   0.03 -0.   -0.1   0.12  0.14  0.04 -0.08 -0.11  0.04 -0.02  0.38  0.21 -0.52 -0.01 -0.27 -0.03 -0.01 -0.27\n",
      "  0.19 -0.07 -0.29  0.26  0.11  0.22  0.35  0.07 -0.01  0.17]\n"
     ]
    }
   ],
   "source": [
    "print('Regression Cofficients: \\n',linreg.coef_)"
   ]
  },
  {
   "cell_type": "code",
   "execution_count": 26,
   "metadata": {},
   "outputs": [
    {
     "name": "stdout",
     "output_type": "stream",
     "text": [
      "racepctblack 0.20\n",
      "racePctWhite 0.03\n",
      " medIncome -0.00\n",
      "pctWInvInc -0.10\n",
      "pctWPubAsst 0.12\n",
      " medFamInc 0.14\n",
      "NumUnderPov 0.04\n",
      "PctPopUnderPov -0.08\n",
      "PctLess9thGrade -0.11\n",
      "PctNotHSGrad 0.04\n",
      "PctUnemployed -0.02\n",
      "MalePctDivorce 0.38\n",
      "FemalePctDiv 0.21\n",
      "TotalPctDiv -0.52\n",
      "PctFam2Par -0.01\n",
      "PctKids2Par -0.27\n",
      "PctYoungKids2Par -0.03\n",
      "PctTeen2Par -0.01\n",
      "  NumIlleg -0.27\n",
      "  PctIlleg 0.19\n",
      "PctLargHouseFam -0.07\n",
      "PctPersOwnOccup -0.29\n",
      "PctPersDenseHous 0.26\n",
      "PctHousLess3BR 0.11\n",
      "HousVacant 0.22\n",
      "PctHousOwnOcc 0.35\n",
      "PctVacantBoarded 0.07\n",
      "PctHousNoPhone -0.01\n",
      "NumInShelters 0.17\n"
     ]
    }
   ],
   "source": [
    "for i in range(len(X_fs_columns)):\n",
    "    print(\"%10s %3.2f\" % (X_fs_columns[i],linreg.coef_[i]))"
   ]
  },
  {
   "cell_type": "code",
   "execution_count": 27,
   "metadata": {},
   "outputs": [],
   "source": [
    "def plot_coefficients(model, n_features, feature_names):\n",
    "    plt.barh(range(n_features), model.coef_, align='center')\n",
    "    plt.yticks(np.arange(n_features), feature_names)\n",
    "    plt.xlabel(\"Coefficient Value\")\n",
    "    plt.ylabel(\"Feature\")\n",
    "    plt.ylim(-1, n_features)"
   ]
  },
  {
   "cell_type": "code",
   "execution_count": 28,
   "metadata": {},
   "outputs": [
    {
     "data": {
      "image/png": "[encoded data removed]",
      "text/plain": [
       "<Figure size 432x288 with 1 Axes>"
      ]
     },
     "metadata": {
      "needs_background": "light"
     },
     "output_type": "display_data"
    }
   ],
   "source": [
    "plot_coefficients(linreg, len(X_fs_columns), X_fs_columns)"
   ]
  },
  {
   "cell_type": "code",
   "execution_count": 29,
   "metadata": {},
   "outputs": [
    {
     "data": {
      "image/png": "[encoded data removed]",
      "text/plain": [
       "<Figure size 432x288 with 1 Axes>"
      ]
     },
     "metadata": {
      "needs_background": "light"
     },
     "output_type": "display_data"
    }
   ],
   "source": [
    "#plot the predicted against actual\n",
    "plt.plot(p, y_train,'ro', markersize=2)\n",
    "plt.plot([0,1],[0,1], 'g-')\n",
    "plt.xlabel('Predicted')\n",
    "plt.ylabel('Actual')\n",
    "plt.show()"
   ]
  },
  {
   "cell_type": "markdown",
   "metadata": {},
   "source": [
    "<h4>Compute RMSE using 10-fold cross-validation</h4>"
   ]
  },
  {
   "cell_type": "code",
   "execution_count": 30,
   "metadata": {},
   "outputs": [],
   "source": [
    "def cross_validate(model, X, y, n, verbose=False):\n",
    "    # model: regression model to be trained\n",
    "    # X: the data matrix\n",
    "    # y: the target variable array\n",
    "    # n: the number of fold for x-validation\n",
    "    # Returns mean RMSE across all folds\n",
    "    \n",
    "    from sklearn.model_selection import KFold\n",
    "    kf = KFold(n_splits=n, random_state=22,shuffle=True)\n",
    "    xval_err = 0\n",
    "    f = 1\n",
    "    for train,test in kf.split(X):\n",
    "        model.fit(X[train],y[train])\n",
    "        p = model.predict(X[test])\n",
    "        e = p-y[test]\n",
    "        rmse = np.sqrt(np.dot(e,e)/len(X[test]))\n",
    "        if verbose:\n",
    "            print(\"Fold %2d RMSE: %.4f\" % (f, rmse))\n",
    "        xval_err += rmse\n",
    "        f += 1\n",
    "    return xval_err/n"
   ]
  },
  {
   "cell_type": "code",
   "execution_count": 31,
   "metadata": {},
   "outputs": [
    {
     "name": "stdout",
     "output_type": "stream",
     "text": [
      "Fold  1 RMSE: 0.1328\n",
      "Fold  2 RMSE: 0.1369\n",
      "Fold  3 RMSE: 0.1321\n",
      "Fold  4 RMSE: 0.1335\n",
      "Fold  5 RMSE: 0.1333\n",
      "Fold  6 RMSE: 0.1470\n",
      "Fold  7 RMSE: 0.1399\n",
      "Fold  8 RMSE: 0.1237\n",
      "Fold  9 RMSE: 0.1369\n",
      "Fold 10 RMSE: 0.1678\n"
     ]
    },
    {
     "data": {
      "text/plain": [
       "0.13839315950225628"
      ]
     },
     "execution_count": 31,
     "metadata": {},
     "output_type": "execute_result"
    }
   ],
   "source": [
    "rmse_10cv = cross_validate(linreg, X_train_fs, np.array(y_train), 10,verbose=True)\n",
    "rmse_10cv "
   ]
  },
  {
   "cell_type": "code",
   "execution_count": 32,
   "metadata": {},
   "outputs": [
    {
     "data": {
      "text/plain": [
       "array([0.22, 0.06, 0.04, 0.14, 0.08, 0.22, 0.15, 0.08, 0.02, 0.03])"
      ]
     },
     "execution_count": 32,
     "metadata": {},
     "output_type": "execute_result"
    }
   ],
   "source": [
    "p_test_fs=linreg.predict(X_test_fs)\n",
    "y_test_fs_arr=np.array(y_test_fs)\n",
    "err_test=abs(p_test_fs-y_test_fs_arr)\n",
    "err_test[:10]"
   ]
  },
  {
   "cell_type": "code",
   "execution_count": 33,
   "metadata": {},
   "outputs": [
    {
     "name": "stdout",
     "output_type": "stream",
     "text": [
      "RMSE on the test data:  7.818017037185425\n"
     ]
    }
   ],
   "source": [
    "total_test_error=np.dot(err_test,err_test)\n",
    "rmse_test=np.sqrt(total_error/len(p_test_fs))\n",
    "print(\"RMSE on the test data: \",total_test_error)"
   ]
  },
  {
   "cell_type": "markdown",
   "metadata": {},
   "source": [
    "<h4>problem1(d)</h4>"
   ]
  },
  {
   "cell_type": "markdown",
   "metadata": {},
   "source": [
    "<h4>Ridge regression</h4>"
   ]
  },
  {
   "cell_type": "code",
   "execution_count": 166,
   "metadata": {},
   "outputs": [],
   "source": [
    "def AlphaForRidge_Rmse(X, y, alpha):\n",
    "    ridge = Ridge(alpha=alpha)\n",
    "    ridge.fit(X,y)\n",
    "    rmse_5cv = cross_validate(ridge, X, y, 5, verbose=False)\n",
    "    return rmse_5cv"
   ]
  },
  {
   "cell_type": "code",
   "execution_count": 167,
   "metadata": {},
   "outputs": [
    {
     "name": "stdout",
     "output_type": "stream",
     "text": [
      "when alpha is 0.00, RMSE on 5-fold CV: 0.13865112\n",
      "when alpha is 0.05, RMSE on 5-fold CV: 0.13854348\n",
      "when alpha is 0.10, RMSE on 5-fold CV: 0.13848894\n",
      "when alpha is 0.15, RMSE on 5-fold CV: 0.13844931\n",
      "when alpha is 0.20, RMSE on 5-fold CV: 0.13841852\n",
      "when alpha is 0.25, RMSE on 5-fold CV: 0.13839389\n",
      "when alpha is 0.30, RMSE on 5-fold CV: 0.13837385\n",
      "when alpha is 0.35, RMSE on 5-fold CV: 0.13835738\n",
      "when alpha is 0.41, RMSE on 5-fold CV: 0.13834378\n",
      "when alpha is 0.46, RMSE on 5-fold CV: 0.13833255\n",
      "when alpha is 0.51, RMSE on 5-fold CV: 0.13832330\n",
      "when alpha is 0.56, RMSE on 5-fold CV: 0.13831574\n",
      "when alpha is 0.61, RMSE on 5-fold CV: 0.13830964\n",
      "when alpha is 0.66, RMSE on 5-fold CV: 0.13830481\n",
      "when alpha is 0.71, RMSE on 5-fold CV: 0.13830110\n",
      "when alpha is 0.76, RMSE on 5-fold CV: 0.13829837\n",
      "when alpha is 0.81, RMSE on 5-fold CV: 0.13829652\n",
      "when alpha is 0.86, RMSE on 5-fold CV: 0.13829545\n",
      "when alpha is 0.91, RMSE on 5-fold CV: 0.13829509\n",
      "when alpha is 0.96, RMSE on 5-fold CV: 0.13829536\n",
      "when alpha is 1.01, RMSE on 5-fold CV: 0.13829620\n",
      "when alpha is 1.06, RMSE on 5-fold CV: 0.13829755\n",
      "when alpha is 1.11, RMSE on 5-fold CV: 0.13829937\n",
      "when alpha is 1.16, RMSE on 5-fold CV: 0.13830162\n",
      "when alpha is 1.22, RMSE on 5-fold CV: 0.13830425\n",
      "when alpha is 1.27, RMSE on 5-fold CV: 0.13830723\n",
      "when alpha is 1.32, RMSE on 5-fold CV: 0.13831053\n",
      "when alpha is 1.37, RMSE on 5-fold CV: 0.13831413\n",
      "when alpha is 1.42, RMSE on 5-fold CV: 0.13831798\n",
      "when alpha is 1.47, RMSE on 5-fold CV: 0.13832208\n",
      "when alpha is 1.52, RMSE on 5-fold CV: 0.13832640\n",
      "when alpha is 1.57, RMSE on 5-fold CV: 0.13833092\n",
      "when alpha is 1.62, RMSE on 5-fold CV: 0.13833562\n",
      "when alpha is 1.67, RMSE on 5-fold CV: 0.13834049\n",
      "when alpha is 1.72, RMSE on 5-fold CV: 0.13834551\n",
      "when alpha is 1.77, RMSE on 5-fold CV: 0.13835067\n",
      "when alpha is 1.82, RMSE on 5-fold CV: 0.13835596\n",
      "when alpha is 1.87, RMSE on 5-fold CV: 0.13836136\n",
      "when alpha is 1.92, RMSE on 5-fold CV: 0.13836687\n",
      "when alpha is 1.97, RMSE on 5-fold CV: 0.13837247\n",
      "when alpha is 2.03, RMSE on 5-fold CV: 0.13837815\n",
      "when alpha is 2.08, RMSE on 5-fold CV: 0.13838391\n",
      "when alpha is 2.13, RMSE on 5-fold CV: 0.13838974\n",
      "when alpha is 2.18, RMSE on 5-fold CV: 0.13839563\n",
      "when alpha is 2.23, RMSE on 5-fold CV: 0.13840158\n",
      "when alpha is 2.28, RMSE on 5-fold CV: 0.13840758\n",
      "when alpha is 2.33, RMSE on 5-fold CV: 0.13841362\n",
      "when alpha is 2.38, RMSE on 5-fold CV: 0.13841970\n",
      "when alpha is 2.43, RMSE on 5-fold CV: 0.13842581\n",
      "when alpha is 2.48, RMSE on 5-fold CV: 0.13843195\n",
      "when alpha is 2.53, RMSE on 5-fold CV: 0.13843812\n",
      "when alpha is 2.58, RMSE on 5-fold CV: 0.13844431\n",
      "when alpha is 2.63, RMSE on 5-fold CV: 0.13845051\n",
      "when alpha is 2.68, RMSE on 5-fold CV: 0.13845673\n",
      "when alpha is 2.73, RMSE on 5-fold CV: 0.13846296\n",
      "when alpha is 2.78, RMSE on 5-fold CV: 0.13846921\n",
      "when alpha is 2.84, RMSE on 5-fold CV: 0.13847545\n",
      "when alpha is 2.89, RMSE on 5-fold CV: 0.13848170\n",
      "when alpha is 2.94, RMSE on 5-fold CV: 0.13848795\n",
      "when alpha is 2.99, RMSE on 5-fold CV: 0.13849420\n",
      "when alpha is 3.04, RMSE on 5-fold CV: 0.13850045\n",
      "when alpha is 3.09, RMSE on 5-fold CV: 0.13850670\n",
      "when alpha is 3.14, RMSE on 5-fold CV: 0.13851293\n",
      "when alpha is 3.19, RMSE on 5-fold CV: 0.13851916\n",
      "when alpha is 3.24, RMSE on 5-fold CV: 0.13852538\n",
      "when alpha is 3.29, RMSE on 5-fold CV: 0.13853159\n",
      "when alpha is 3.34, RMSE on 5-fold CV: 0.13853779\n",
      "when alpha is 3.39, RMSE on 5-fold CV: 0.13854398\n",
      "when alpha is 3.44, RMSE on 5-fold CV: 0.13855015\n",
      "when alpha is 3.49, RMSE on 5-fold CV: 0.13855631\n",
      "when alpha is 3.54, RMSE on 5-fold CV: 0.13856245\n",
      "when alpha is 3.59, RMSE on 5-fold CV: 0.13856858\n",
      "when alpha is 3.65, RMSE on 5-fold CV: 0.13857469\n",
      "when alpha is 3.70, RMSE on 5-fold CV: 0.13858078\n",
      "when alpha is 3.75, RMSE on 5-fold CV: 0.13858685\n",
      "when alpha is 3.80, RMSE on 5-fold CV: 0.13859290\n",
      "when alpha is 3.85, RMSE on 5-fold CV: 0.13859894\n",
      "when alpha is 3.90, RMSE on 5-fold CV: 0.13860495\n",
      "when alpha is 3.95, RMSE on 5-fold CV: 0.13861094\n",
      "when alpha is 4.00, RMSE on 5-fold CV: 0.13861692\n"
     ]
    },
    {
     "data": {
      "text/plain": [
       "[<matplotlib.lines.Line2D at 0x22d6e3f45c8>]"
      ]
     },
     "execution_count": 167,
     "metadata": {},
     "output_type": "execute_result"
    },
    {
     "data": {
      "image/png": "[encoded data removed]",
      "text/plain": [
       "<Figure size 432x288 with 1 Axes>"
      ]
     },
     "metadata": {
      "needs_background": "light"
     },
     "output_type": "display_data"
    }
   ],
   "source": [
    "x_axis = np.linspace(0,4,80)\n",
    "y_axis=[]\n",
    "for i in x_axis:\n",
    "    y_err=AlphaForRidge_Rmse(X_train_fs, y_train_arr, i)\n",
    "    y_axis.append(y_err)\n",
    "    print(\"when alpha is %.2f, RMSE on 5-fold CV: %.8f\"%(i, y_err))\n",
    "plt.plot(x_axis,y_axis)"
   ]
  },
  {
   "cell_type": "code",
   "execution_count": 168,
   "metadata": {},
   "outputs": [
    {
     "data": {
      "text/plain": [
       "Ridge(alpha=0.91, copy_X=True, fit_intercept=True, max_iter=None,\n",
       "      normalize=False, random_state=None, solver='auto', tol=0.001)"
      ]
     },
     "execution_count": 168,
     "metadata": {},
     "output_type": "execute_result"
    }
   ],
   "source": [
    "# based one calculation above, we choose alpha to be 0.91\n",
    "ridge = Ridge(alpha=0.91)\n",
    "# Train the model using the training set\n",
    "ridge.fit(X_train_fs,y_train_arr)"
   ]
  },
  {
   "cell_type": "code",
   "execution_count": 169,
   "metadata": {},
   "outputs": [
    {
     "name": "stdout",
     "output_type": "stream",
     "text": [
      "Method: Ridge Regression\n",
      "RMSE on testing data: 0.139507\n"
     ]
    }
   ],
   "source": [
    "# Compute RMSE on test data\n",
    "p = ridge.predict(np.array(X_test_fs))\n",
    "err = p-y_test_fs_arr\n",
    "total_error = np.dot(err,err)\n",
    "rmse_test = np.sqrt(total_error/len(p))\n",
    "\n",
    "method_name = 'Ridge Regression'\n",
    "print('Method: %s' %method_name)\n",
    "print('RMSE on testing data: %.6f' %rmse_test)"
   ]
  },
  {
   "cell_type": "code",
   "execution_count": 180,
   "metadata": {},
   "outputs": [
    {
     "name": "stdout",
     "output_type": "stream",
     "text": [
      "ridge score on training data is 0.651514: \n",
      "ridge score on testing data is 0.677555: \n"
     ]
    }
   ],
   "source": [
    "print('ridge score on training data is %.6f: '% ridge.score(X_train_fs, y_train_arr))\n",
    "print('ridge score on testing data is %.6f: '% ridge.score(X_test_fs, y_test_fs_arr))"
   ]
  },
  {
   "cell_type": "markdown",
   "metadata": {},
   "source": [
    "<h4>lasso regression</h4>"
   ]
  },
  {
   "cell_type": "code",
   "execution_count": 170,
   "metadata": {},
   "outputs": [],
   "source": [
    "def AlphaForLasso_Rmse(X, y, alpha):\n",
    "    lasso = Lasso(alpha=alpha)\n",
    "    lasso.fit(X,y)\n",
    "    rmse_5cv = cross_validate(lasso, X, y, 5, verbose=False)\n",
    "    return rmse_5cv"
   ]
  },
  {
   "cell_type": "code",
   "execution_count": 195,
   "metadata": {},
   "outputs": [
    {
     "name": "stdout",
     "output_type": "stream",
     "text": [
      "when alpha is 1.00, RMSE on 5-fold CV: 0.22965102\n",
      "when alpha is 1.08, RMSE on 5-fold CV: 0.22965102\n",
      "when alpha is 1.16, RMSE on 5-fold CV: 0.22965102\n",
      "when alpha is 1.24, RMSE on 5-fold CV: 0.22965102\n",
      "when alpha is 1.33, RMSE on 5-fold CV: 0.22965102\n",
      "when alpha is 1.41, RMSE on 5-fold CV: 0.22965102\n",
      "when alpha is 1.49, RMSE on 5-fold CV: 0.22965102\n",
      "when alpha is 1.57, RMSE on 5-fold CV: 0.22965102\n",
      "when alpha is 1.65, RMSE on 5-fold CV: 0.22965102\n",
      "when alpha is 1.73, RMSE on 5-fold CV: 0.22965102\n",
      "when alpha is 1.82, RMSE on 5-fold CV: 0.22965102\n",
      "when alpha is 1.90, RMSE on 5-fold CV: 0.22965102\n",
      "when alpha is 1.98, RMSE on 5-fold CV: 0.22965102\n",
      "when alpha is 2.06, RMSE on 5-fold CV: 0.22965102\n",
      "when alpha is 2.14, RMSE on 5-fold CV: 0.22965102\n",
      "when alpha is 2.22, RMSE on 5-fold CV: 0.22965102\n",
      "when alpha is 2.31, RMSE on 5-fold CV: 0.22965102\n",
      "when alpha is 2.39, RMSE on 5-fold CV: 0.22965102\n",
      "when alpha is 2.47, RMSE on 5-fold CV: 0.22965102\n",
      "when alpha is 2.55, RMSE on 5-fold CV: 0.22965102\n",
      "when alpha is 2.63, RMSE on 5-fold CV: 0.22965102\n",
      "when alpha is 2.71, RMSE on 5-fold CV: 0.22965102\n",
      "when alpha is 2.80, RMSE on 5-fold CV: 0.22965102\n",
      "when alpha is 2.88, RMSE on 5-fold CV: 0.22965102\n",
      "when alpha is 2.96, RMSE on 5-fold CV: 0.22965102\n",
      "when alpha is 3.04, RMSE on 5-fold CV: 0.22965102\n",
      "when alpha is 3.12, RMSE on 5-fold CV: 0.22965102\n",
      "when alpha is 3.20, RMSE on 5-fold CV: 0.22965102\n",
      "when alpha is 3.29, RMSE on 5-fold CV: 0.22965102\n",
      "when alpha is 3.37, RMSE on 5-fold CV: 0.22965102\n",
      "when alpha is 3.45, RMSE on 5-fold CV: 0.22965102\n",
      "when alpha is 3.53, RMSE on 5-fold CV: 0.22965102\n",
      "when alpha is 3.61, RMSE on 5-fold CV: 0.22965102\n",
      "when alpha is 3.69, RMSE on 5-fold CV: 0.22965102\n",
      "when alpha is 3.78, RMSE on 5-fold CV: 0.22965102\n",
      "when alpha is 3.86, RMSE on 5-fold CV: 0.22965102\n",
      "when alpha is 3.94, RMSE on 5-fold CV: 0.22965102\n",
      "when alpha is 4.02, RMSE on 5-fold CV: 0.22965102\n",
      "when alpha is 4.10, RMSE on 5-fold CV: 0.22965102\n",
      "when alpha is 4.18, RMSE on 5-fold CV: 0.22965102\n",
      "when alpha is 4.27, RMSE on 5-fold CV: 0.22965102\n",
      "when alpha is 4.35, RMSE on 5-fold CV: 0.22965102\n",
      "when alpha is 4.43, RMSE on 5-fold CV: 0.22965102\n",
      "when alpha is 4.51, RMSE on 5-fold CV: 0.22965102\n",
      "when alpha is 4.59, RMSE on 5-fold CV: 0.22965102\n",
      "when alpha is 4.67, RMSE on 5-fold CV: 0.22965102\n",
      "when alpha is 4.76, RMSE on 5-fold CV: 0.22965102\n",
      "when alpha is 4.84, RMSE on 5-fold CV: 0.22965102\n",
      "when alpha is 4.92, RMSE on 5-fold CV: 0.22965102\n",
      "when alpha is 5.00, RMSE on 5-fold CV: 0.22965102\n"
     ]
    },
    {
     "data": {
      "text/plain": [
       "[<matplotlib.lines.Line2D at 0x22d743c95c8>]"
      ]
     },
     "execution_count": 195,
     "metadata": {},
     "output_type": "execute_result"
    },
    {
     "data": {
      "image/png": "[encoded data removed]",
      "text/plain": [
       "<Figure size 432x288 with 1 Axes>"
      ]
     },
     "metadata": {
      "needs_background": "light"
     },
     "output_type": "display_data"
    }
   ],
   "source": [
    "x_axis = np.linspace(1,5,50)\n",
    "y_axis=[]\n",
    "for i in x_axis:\n",
    "    y_err=AlphaForLasso_Rmse(X_train_fs, y_train_arr, i)\n",
    "    y_axis.append(y_err)\n",
    "    print(\"when alpha is %.2f, RMSE on 5-fold CV: %.8f\"%(i, y_err))\n",
    "plt.plot(x_axis,y_axis)"
   ]
  },
  {
   "cell_type": "code",
   "execution_count": 196,
   "metadata": {},
   "outputs": [
    {
     "data": {
      "text/plain": [
       "Lasso(alpha=1, copy_X=True, fit_intercept=True, max_iter=1000, normalize=False,\n",
       "      positive=False, precompute=False, random_state=None, selection='cyclic',\n",
       "      tol=0.0001, warm_start=False)"
      ]
     },
     "execution_count": 196,
     "metadata": {},
     "output_type": "execute_result"
    }
   ],
   "source": [
    "# based one calculation above, we choose alpha to be 1\n",
    "lasso = Lasso(alpha=1)\n",
    "# Train the model using the training set\n",
    "lasso.fit(X_train_fs,y_train_arr)"
   ]
  },
  {
   "cell_type": "code",
   "execution_count": 197,
   "metadata": {},
   "outputs": [
    {
     "name": "stdout",
     "output_type": "stream",
     "text": [
      "Method: Ridge Regression\n",
      "RMSE on testing data: 0.245682\n"
     ]
    }
   ],
   "source": [
    "# Compute RMSE on test data\n",
    "p = lasso.predict(np.array(X_test_fs))\n",
    "err = p-y_test_fs_arr\n",
    "total_error = np.dot(err,err)\n",
    "rmse_test = np.sqrt(total_error/len(p))\n",
    "\n",
    "method_name = 'Ridge Regression'\n",
    "print('Method: %s' %method_name)\n",
    "print('RMSE on testing data: %.6f' %rmse_test)"
   ]
  },
  {
   "cell_type": "code",
   "execution_count": 198,
   "metadata": {},
   "outputs": [
    {
     "name": "stdout",
     "output_type": "stream",
     "text": [
      "lasso score on training data is 0.000000: \n",
      "lasso score on testing data is -0.000023: \n"
     ]
    }
   ],
   "source": [
    "print('lasso score on training data is %.6f: '% lasso.score(X_train_fs, y_train_arr))\n",
    "print('lasso score on testing data is %.6f: '% lasso.score(X_test_fs, y_test_fs_arr))"
   ]
  },
  {
   "cell_type": "raw",
   "metadata": {},
   "source": [
    "Based on the above observation, we should use the ridge regression with regularization parameter .91"
   ]
  },
  {
   "cell_type": "markdown",
   "metadata": {},
   "source": [
    "<h4>Problem1(e)</h4>"
   ]
  },
  {
   "cell_type": "code",
   "execution_count": 249,
   "metadata": {},
   "outputs": [],
   "source": [
    "from sklearn.preprocessing import StandardScaler\n",
    "from sklearn.model_selection import GridSearchCV"
   ]
  },
  {
   "cell_type": "code",
   "execution_count": 253,
   "metadata": {},
   "outputs": [],
   "source": [
    "scaler = StandardScaler()\n",
    "X_train_fs_standard = scaler.fit_transform(X_train_fs)\n",
    "sgd_reg = SGDRegressor()"
   ]
  },
  {
   "cell_type": "code",
   "execution_count": 261,
   "metadata": {},
   "outputs": [
    {
     "name": "stdout",
     "output_type": "stream",
     "text": [
      "SGDRegressor(alpha=0.21947368421052632, average=False, early_stopping=False,\n",
      "             epsilon=0.1, eta0=0.01, fit_intercept=True, l1_ratio=0.15,\n",
      "             learning_rate='invscaling', loss='squared_loss', max_iter=1000,\n",
      "             n_iter_no_change=5, penalty='l2', power_t=0.25, random_state=None,\n",
      "             shuffle=True, tol=0.001, validation_fraction=0.1, verbose=0,\n",
      "             warm_start=False)\n"
     ]
    }
   ],
   "source": [
    "param_dist = {\n",
    "        'alpha':np.linspace(0.01,2,20),\n",
    "        'penalty':['l1','l2'],\n",
    "        }\n",
    "grid_search = GridSearchCV(sgd_reg, param_dist, cv=5,\n",
    "                          scoring='neg_mean_squared_error')\n",
    " \n",
    "grid_search.fit(X_train_fs_standard, y_train_fs)\n",
    "best_estimator = grid_search.best_estimator_\n",
    "print(best_estimator)"
   ]
  },
  {
   "cell_type": "code",
   "execution_count": 263,
   "metadata": {},
   "outputs": [
    {
     "data": {
      "text/plain": [
       "array([0.35, 0.21, 0.2 , 0.25, 0.25, 0.29, 0.24, 0.24, 0.21, 0.19, 0.23, 0.21, 0.2 , 0.35, 0.2 , 0.2 , 0.21, 0.21,\n",
       "       0.21, 0.2 , 0.19, 0.27, 0.2 , 0.22, 0.25, 0.35, 0.23, 0.31, 0.2 , 0.23, 0.21, 0.19, 0.2 , 0.21, 0.21, 0.26,\n",
       "       0.3 , 0.25, 0.36, 0.2 , 0.23, 0.2 , 0.2 , 0.22, 0.24, 0.22, 0.22, 0.19, 0.3 , 0.29, 0.24, 0.24, 0.33, 0.22,\n",
       "       0.21, 0.21, 0.27, 0.2 , 0.27, 0.22, 0.23, 0.19, 0.24, 0.3 , 0.22, 0.21, 0.2 , 0.2 , 0.26, 0.22, 0.21, 0.2 ,\n",
       "       0.23, 0.23, 0.23, 0.23, 0.24, 0.19, 0.25, 0.2 , 0.19, 0.26, 0.19, 0.19, 0.22, 0.29, 0.31, 0.26, 0.27, 0.23,\n",
       "       0.23, 0.2 , 0.23, 0.25, 0.2 , 0.21, 0.25, 0.26, 0.2 , 0.24, 0.21, 0.21, 0.24, 0.2 , 0.2 , 0.21, 0.25, 0.2 ,\n",
       "       0.19, 0.27, 0.21, 0.2 , 0.23, 0.29, 0.19, 0.23, 0.22, 0.19, 0.26, 0.22, 0.2 , 0.19, 0.32, 0.23, 0.25, 0.23,\n",
       "       0.19, 0.21, 0.21, 0.27, 0.31, 0.21, 0.2 , 0.3 , 0.27, 0.23, 0.25, 0.18, 0.29, 0.2 , 0.2 , 0.2 , 0.22, 0.21,\n",
       "       0.22, 0.26, 0.2 , 0.23, 0.27, 0.2 , 0.2 , 0.26, 0.24, 0.21, 0.22, 0.2 , 0.2 , 0.21, 0.24, 0.29, 0.25, 0.24,\n",
       "       0.26, 0.24, 0.22, 0.21, 0.25, 0.2 , 0.21, 0.27, 0.21, 0.22, 0.29, 0.22, 0.26, 0.23, 0.2 , 0.21, 0.22, 0.22,\n",
       "       0.23, 0.22, 0.23, 0.21, 0.24, 0.19, 0.2 , 0.21, 0.22, 0.34, 0.19, 0.24, 0.24, 0.2 , 0.19, 0.22, 0.22, 0.24,\n",
       "       0.19, 0.28, 0.25, 0.19, 0.26, 0.24, 0.19, 0.26, 0.19, 0.21, 0.22, 0.21, 0.35, 0.21, 0.22, 0.19, 0.22, 0.27,\n",
       "       0.22, 0.24, 0.24, 0.2 , 0.23, 0.31, 0.2 , 0.3 , 0.22, 0.2 , 0.21, 0.23, 0.18, 0.21, 0.2 , 0.21, 0.2 , 0.21,\n",
       "       0.27, 0.25, 0.22, 0.2 , 0.27, 0.2 , 0.2 , 0.22, 0.28, 0.2 , 0.25, 0.23, 0.26, 0.2 , 0.24, 0.2 , 0.26, 0.34,\n",
       "       0.26, 0.24, 0.24, 0.21, 0.24, 0.22, 0.2 , 0.31, 0.19, 0.19, 0.19, 0.24, 0.22, 0.21, 0.27, 0.22, 0.19, 0.19,\n",
       "       0.26, 0.22, 0.28, 0.22, 0.24, 0.21, 0.25, 0.24, 0.21, 0.25, 0.21, 0.26, 0.28, 0.24, 0.21, 0.32, 0.26, 0.25,\n",
       "       0.21, 0.2 , 0.22, 0.2 , 0.21, 0.23, 0.22, 0.24, 0.23, 0.21, 0.22, 0.22, 0.21, 0.21, 0.2 , 0.33, 0.22, 0.21,\n",
       "       0.25, 0.22, 0.22, 0.28, 0.21, 0.19, 0.32, 0.21, 0.2 , 0.2 , 0.22, 0.21, 0.22, 0.23, 0.27, 0.26, 0.2 , 0.33,\n",
       "       0.3 , 0.21, 0.36, 0.22, 0.22, 0.23, 0.2 , 0.24, 0.24, 0.22, 0.38, 0.2 , 0.2 , 0.19, 0.21, 0.31, 0.21, 0.2 ,\n",
       "       0.21, 0.23, 0.27, 0.27, 0.25, 0.26, 0.2 , 0.22, 0.25, 0.27, 0.26, 0.2 , 0.2 , 0.21, 0.27, 0.28, 0.34, 0.18,\n",
       "       0.27, 0.22, 0.23, 0.21, 0.3 , 0.19, 0.22, 0.29, 0.21, 0.22, 0.3 , 0.24, 0.3 , 0.2 , 0.24, 0.2 , 0.27, 0.23,\n",
       "       0.2 , 0.19, 0.27, 0.22, 0.21, 0.3 , 0.25, 0.2 , 0.25, 0.2 , 0.21, 0.22, 0.19, 0.23, 0.23, 0.31, 0.2 , 0.3 ,\n",
       "       0.23, 0.2 , 0.19])"
      ]
     },
     "execution_count": 263,
     "metadata": {},
     "output_type": "execute_result"
    }
   ],
   "source": [
    "pred=best_estimator.predict(X_test_fs)\n",
    "pred"
   ]
  },
  {
   "cell_type": "code",
   "execution_count": 264,
   "metadata": {},
   "outputs": [
    {
     "data": {
      "text/plain": [
       "0.2263975575780015"
      ]
     },
     "execution_count": 264,
     "metadata": {},
     "output_type": "execute_result"
    }
   ],
   "source": [
    "test_score = best_estimator.score(X_test_fs,y_test_fs)\n",
    "test_score"
   ]
  },
  {
   "cell_type": "code",
   "execution_count": 271,
   "metadata": {},
   "outputs": [
    {
     "name": "stdout",
     "output_type": "stream",
     "text": [
      "SGDRegressor(alpha=0.11473684210526315, average=False, early_stopping=False,\n",
      "             epsilon=0.1, eta0=0.01, fit_intercept=True, l1_ratio=0.0,\n",
      "             learning_rate='invscaling', loss='squared_loss', max_iter=1000,\n",
      "             n_iter_no_change=5, penalty='elasticnet', power_t=0.25,\n",
      "             random_state=None, shuffle=True, tol=0.001,\n",
      "             validation_fraction=0.1, verbose=0, warm_start=False)\n"
     ]
    }
   ],
   "source": [
    "sgd_reg = SGDRegressor(penalty='elasticnet')\n",
    "param_dist = {\n",
    "        'alpha':np.linspace(0.01,2,20),\n",
    "    'l1_ratio':np.linspace(0,1,20)\n",
    "        }\n",
    "grid_search = GridSearchCV(sgd_reg, param_dist, cv=5, scoring='neg_mean_squared_error')\n",
    " \n",
    "grid_search.fit(X_train_fs_standard, y_train_fs)\n",
    "best_estimator = grid_search.best_estimator_\n",
    "print(best_estimator)"
   ]
  },
  {
   "cell_type": "code",
   "execution_count": 272,
   "metadata": {},
   "outputs": [
    {
     "data": {
      "text/plain": [
       "0.2280452411181293"
      ]
     },
     "execution_count": 272,
     "metadata": {},
     "output_type": "execute_result"
    }
   ],
   "source": [
    "test_score = best_estimator.score(X_test_fs,y_test_fs)\n",
    "test_score"
   ]
  },
  {
   "cell_type": "code",
   "execution_count": null,
   "metadata": {},
   "outputs": [],
   "source": []
  }
 ],
 "metadata": {
  "kernelspec": {
   "display_name": "Python 3",
   "language": "python",
   "name": "python3"
  },
  "language_info": {
   "codemirror_mode": {
    "name": "ipython",
    "version": 3
   },
   "file_extension": ".py",
   "mimetype": "text/x-python",
   "name": "python",
   "nbconvert_exporter": "python",
   "pygments_lexer": "ipython3",
   "version": "3.7.5"
  }
 },
 "nbformat": 4,
 "nbformat_minor": 4
}
